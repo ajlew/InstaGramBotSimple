{
 "cells": [
  {
   "cell_type": "code",
   "execution_count": 6,
   "metadata": {},
   "outputs": [],
   "source": [
    "from selenium import webdriver\n",
    "from selenium.webdriver import Chrome\n",
    "from time import sleep\n",
    "\n",
    "\n",
    "driver = webdriver.Chrome(executable_path= r\"C:\\Users\\Alan\\Downloads\\chromedriver_win32\\chromedriver.exe\")\n",
    "driver.get(\"https://www.instagram.com/\")\n",
    "sleep(2)\n",
    "\n",
    "driver.find_element_by_xpath((\"//input[@name=\\\"username\\\"]\"))\\\n",
    ".send_keys(\"your@email.com\")\n",
    "driver.find_element_by_xpath((\"//input[@name=\\\"password\\\"]\"))\\\n",
    ".send_keys(\"yourpassword\")\n",
    "driver.find_element_by_xpath(('//button[@type=\\\"submit\"]'))\\\n",
    ".click()\n",
    "sleep(5)\n",
    "notNow = driver.find_element_by_xpath(\"//*[text()='Not Now']\")\n",
    "notNow.click()\n",
    "sleep(2)\n",
    "notNow = driver.find_element_by_xpath(\"//*[text()='Not Now']\")\n",
    "notNow.click()\n",
    "\n",
    "\n"
   ]
  },
  {
   "cell_type": "code",
   "execution_count": null,
   "metadata": {},
   "outputs": [],
   "source": []
  },
  {
   "cell_type": "code",
   "execution_count": null,
   "metadata": {},
   "outputs": [],
   "source": []
  }
 ],
 "metadata": {
  "kernelspec": {
   "display_name": "Python 3",
   "language": "python",
   "name": "python3"
  },
  "language_info": {
   "codemirror_mode": {
    "name": "ipython",
    "version": 3
   },
   "file_extension": ".py",
   "mimetype": "text/x-python",
   "name": "python",
   "nbconvert_exporter": "python",
   "pygments_lexer": "ipython3",
   "version": "3.7.9"
  }
 },
 "nbformat": 4,
 "nbformat_minor": 4
}
